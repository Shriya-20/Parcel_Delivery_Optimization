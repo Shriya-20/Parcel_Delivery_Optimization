{
 "cells": [
  {
   "cell_type": "code",
   "execution_count": 1,
   "id": "2cb7a5b4",
   "metadata": {},
   "outputs": [],
   "source": [
    "import pandas as pd\n",
    "\n",
    "a Bhat\\Documents\\Parcel_Delivery_Optimization\\google_or_tools\\multi_vehicle_VRPTW\\csv_data"
   ]
  },
  {
   "cell_type": "code",
   "execution_count": 4,
   "id": "5e4c5fd1",
   "metadata": {},
   "outputs": [
    {
     "name": "stdout",
     "output_type": "stream",
     "text": [
      "                   request_id                    delivery_person_id  \\\n",
      "0  REQ_20250611_105925_586603  69ca617c-9259-492f-a73a-e9e351204678   \n",
      "1  REQ_20250611_105925_586603                          new-driver-2   \n",
      "2  REQ_20250611_105925_586603                          new-driver-2   \n",
      "3  REQ_20250611_105925_586603                          new-driver-2   \n",
      "4  REQ_20250611_112930_718878                                dp-001   \n",
      "\n",
      "                            delivery_id   customer_name  delivery_lat  \\\n",
      "0  48a2f262-567f-438f-94ab-02809a635935  Rohit Bhandary       13.2144   \n",
      "1  b590c213-dcea-4080-939c-015216e5315b     Priya Menon       13.3747   \n",
      "2  ca715f62-9725-4473-9cde-0ee0ec0d42b6    Anita Kamath       13.3141   \n",
      "3  771136b0-8c5a-4901-9aa1-b4fd49e0d22f  Suresh Acharya       13.1315   \n",
      "4                               del-001   Ganesh Shenoy       13.3523   \n",
      "\n",
      "   delivery_lng  delivery_address         arrival_time    time_window_start  \\\n",
      "0       74.9989    Karkala, Udupi  2025-05-26T10:00:00  2025-05-26 10:00:00   \n",
      "1       74.7631  Brahmavar, Udupi  2025-05-26T09:37:00  2025-05-26 09:00:00   \n",
      "2       74.9058      Hebri, Udupi  2025-05-26T11:00:00  2025-05-26 11:00:00   \n",
      "3       74.7594  Padubidri, Udupi  2025-05-26T12:00:00  2025-05-26 12:00:00   \n",
      "4       74.7848    Manipal, Udupi  2025-05-26T09:30:00  2025-05-26 09:30:00   \n",
      "\n",
      "       time_window_end  wait_time_minutes  stop_sequence  package_weight  \\\n",
      "0  2025-05-26 14:00:00                  0              1             4.1   \n",
      "1  2025-05-26 12:00:00                  0              1             1.5   \n",
      "2  2025-05-26 15:00:00                  0              2             2.8   \n",
      "3  2025-05-26 16:00:00                  0              3             1.0   \n",
      "4  2025-05-26 11:30:00                  0              1             2.0   \n",
      "\n",
      "   package_description  \n",
      "0  Priority 2 delivery  \n",
      "1  Priority 0 delivery  \n",
      "2  Priority 2 delivery  \n",
      "3  Priority 1 delivery  \n",
      "4  Priority 1 document  \n"
     ]
    }
   ],
   "source": [
    "df = pd.read_csv('../google_or_tools/multi_vehicle_VRPTW/csv_data/delivery_details.csv')\n",
    "print(df.head())"
   ]
  },
  {
   "cell_type": "code",
   "execution_count": null,
   "id": "3c43d708",
   "metadata": {},
   "outputs": [],
   "source": [
    "df = pd.read_csv('../google_or_tools/multi_vehicle_VRPTW/csv_data/delivery_details.csv')\n",
    "print(df.head())"
   ]
  },
  {
   "cell_type": "code",
   "execution_count": 5,
   "id": "8d82a5c3",
   "metadata": {},
   "outputs": [
    {
     "data": {
      "text/plain": [
       "Index(['request_id', 'delivery_person_id', 'delivery_id', 'customer_name',\n",
       "       'delivery_lat', 'delivery_lng', 'delivery_address', 'arrival_time',\n",
       "       'time_window_start', 'time_window_end', 'wait_time_minutes',\n",
       "       'stop_sequence', 'package_weight', 'package_description'],\n",
       "      dtype='object')"
      ]
     },
     "execution_count": 5,
     "metadata": {},
     "output_type": "execute_result"
    }
   ],
   "source": [
    "df.columns"
   ]
  },
  {
   "cell_type": "code",
   "execution_count": 6,
   "id": "410f6200",
   "metadata": {},
   "outputs": [
    {
     "name": "stdout",
     "output_type": "stream",
     "text": [
      "                   request_id                    delivery_person_id  \\\n",
      "0  REQ_20250611_105925_586603  69ca617c-9259-492f-a73a-e9e351204678   \n",
      "1  REQ_20250611_105925_586603                          new-driver-2   \n",
      "2  REQ_20250611_112930_718878                                dp-001   \n",
      "3  REQ_20250611_112930_718878                                dp-002   \n",
      "4  REQ_20250611_113739_696363                                dp-001   \n",
      "\n",
      "  delivery_person_name  start_lat  start_lng  total_stops  total_time_minutes  \\\n",
      "0             Keerthan    13.2144    74.9989            1                 121   \n",
      "1                Meera    13.1315    74.7594            3                 241   \n",
      "2                Rahul    13.3523    74.7848            1                  61   \n",
      "3                Divya    13.2914    74.7720            3                 246   \n",
      "4                Rahul    13.3523    74.7848            1                  61   \n",
      "\n",
      "   total_distance_meters  route_note  \n",
      "0                  0.000         NaN  \n",
      "1             102511.137         NaN  \n",
      "2                  0.000         NaN  \n",
      "3              25364.435         NaN  \n",
      "4                  0.000         NaN  \n"
     ]
    }
   ],
   "source": [
    "df = pd.read_csv('../google_or_tools/multi_vehicle_VRPTW/csv_data/delivery_routes.csv')\n",
    "print(df.head())"
   ]
  },
  {
   "cell_type": "code",
   "execution_count": 7,
   "id": "6ab025a6",
   "metadata": {},
   "outputs": [
    {
     "name": "stdout",
     "output_type": "stream",
     "text": [
      "                   request_id                   timestamp  \\\n",
      "0  REQ_20250611_105925_586603  2025-06-11T10:59:29.032727   \n",
      "1  REQ_20250611_112930_718878  2025-06-11T11:29:32.674836   \n",
      "2  REQ_20250611_113739_696363  2025-06-11T11:37:40.553293   \n",
      "\n",
      "          current_time  num_delivery_persons  num_deliveries  \\\n",
      "0  2025-05-26T08:00:00                     5               4   \n",
      "1  2025-05-26T08:30:00                     5               4   \n",
      "2  2025-05-26T08:30:00                     5               4   \n",
      "\n",
      "   total_vehicles_used  fallback_used   status  \n",
      "0                    2          False  success  \n",
      "1                    2          False  success  \n",
      "2                    2          False  success  \n"
     ]
    }
   ],
   "source": [
    "df = pd.read_csv('../google_or_tools/multi_vehicle_VRPTW/csv_data/delivery_requests.csv')\n",
    "print(df.head())"
   ]
  },
  {
   "cell_type": "code",
   "execution_count": null,
   "id": "9ff9f561",
   "metadata": {},
   "outputs": [],
   "source": []
  }
 ],
 "metadata": {
  "kernelspec": {
   "display_name": "Python 3 (ipykernel)",
   "language": "python",
   "name": "python3"
  },
  "language_info": {
   "codemirror_mode": {
    "name": "ipython",
    "version": 3
   },
   "file_extension": ".py",
   "mimetype": "text/x-python",
   "name": "python",
   "nbconvert_exporter": "python",
   "pygments_lexer": "ipython3",
   "version": "3.11.4"
  }
 },
 "nbformat": 4,
 "nbformat_minor": 5
}
